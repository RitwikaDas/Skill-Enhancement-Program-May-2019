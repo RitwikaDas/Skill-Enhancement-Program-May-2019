{
 "cells": [
  {
   "cell_type": "markdown",
   "metadata": {},
   "source": [
    "# Problem Solving and programming\n",
    "#### Day No - 12\n",
    "#### Date - 10th May 2019\n",
    "#### Day Objectives\n",
    "1. Objective 1\n",
    "2. Objective 2\n",
    "3. Objective 3"
   ]
  },
  {
   "cell_type": "markdown",
   "metadata": {},
   "source": [
    "#### Problem 1:\n",
    "#### Problem Statement :\n",
    "Design a procedure calculate the maximum, minimum and average of N numbers\n",
    "#### Constraints :\n",
    "#### Test Cases :\n",
    " data( a[1,2,3,4,5] ) -> Max = 5, Min = 1, Avg = 3"
   ]
  },
  {
   "cell_type": "code",
   "execution_count": 6,
   "metadata": {},
   "outputs": [
    {
     "name": "stdout",
     "output_type": "stream",
     "text": [
      "5\n",
      "1\n",
      "3\n"
     ]
    }
   ],
   "source": [
    "def MaxMinAvg(a):\n",
    "    print(max(a))\n",
    "    print(min(a))\n",
    "    average = int((min(a) + max(a))/2)\n",
    "    print(average)\n",
    "MaxMinAvg([1,2,3,4,5])"
   ]
  },
  {
   "cell_type": "markdown",
   "metadata": {},
   "source": [
    "#### Problem 2:\n",
    "#### Problem Statement :\n",
    "Design a procedure to calculate the squareroot of a number \"without using the math function sqrt\".\n",
    "#### Test Cases : \n",
    "Squareroot(36) -> 6"
   ]
  },
  {
   "cell_type": "code",
   "execution_count": 14,
   "metadata": {},
   "outputs": [
    {
     "name": "stdout",
     "output_type": "stream",
     "text": [
      "2.23606797749979\n",
      "6.0\n"
     ]
    }
   ],
   "source": [
    "def Squareroot(n):\n",
    "    m = n ** 0.5\n",
    "    return m\n",
    "print(Squareroot(5))\n",
    "print(Squareroot(36))\n"
   ]
  },
  {
   "cell_type": "markdown",
   "metadata": {},
   "source": [
    "#### Problem 3:\n",
    "#### Problem Statement :\n",
    "Fibonacci Series\n"
   ]
  },
  {
   "cell_type": "code",
   "execution_count": 12,
   "metadata": {},
   "outputs": [
    {
     "name": "stdout",
     "output_type": "stream",
     "text": [
      "0\n",
      "1\n",
      "1\n",
      "2\n",
      "3\n"
     ]
    }
   ],
   "source": [
    "def Fibonacci(n):\n",
    "    f1 = 0\n",
    "    f2 = 1\n",
    "    print(f1)\n",
    "    print(f2)\n",
    "    for i in range(2,n):\n",
    "        f3 = f1 + f2\n",
    "        print(f3)\n",
    "        f1 = f2\n",
    "        f2 = f3\n",
    "    \n",
    "Fibonacci(5)"
   ]
  },
  {
   "cell_type": "markdown",
   "metadata": {},
   "source": [
    "# Problem solving using Recursion\n",
    "### Definition :\n",
    "Function calling itself.\n",
    "\n",
    "Breakdown \n",
    "\n"
   ]
  },
  {
   "cell_type": "markdown",
   "metadata": {},
   "source": [
    "#### Problem 4:\n",
    "#### Problem Statement : \n",
    "Power of a number"
   ]
  },
  {
   "cell_type": "code",
   "execution_count": null,
   "metadata": {},
   "outputs": [],
   "source": [
    "# Iterative solution for power of a number\n",
    "def power(n,r):\n",
    "    prod = 1\n",
    "    for i in range(1,r+1):\n",
    "        prod *= n\n",
    "    return prod\n",
    "power(2,10)"
   ]
  },
  {
   "cell_type": "code",
   "execution_count": 20,
   "metadata": {},
   "outputs": [
    {
     "data": {
      "text/plain": [
       "8"
      ]
     },
     "execution_count": 20,
     "metadata": {},
     "output_type": "execute_result"
    }
   ],
   "source": [
    "# Recursion solution for power of a number\n",
    "def recursivePower(n,r):\n",
    "    if r == 1:\n",
    "        return n\n",
    "    else :\n",
    "        return recursivePower(n,r-1)*n\n",
    "recursivePower(2,3)"
   ]
  },
  {
   "cell_type": "markdown",
   "metadata": {},
   "source": [
    "#### Problem 5:\n",
    "#### Problem Statement : \n",
    "Factorial of a number"
   ]
  },
  {
   "cell_type": "code",
   "execution_count": 33,
   "metadata": {},
   "outputs": [
    {
     "data": {
      "text/plain": [
       "24"
      ]
     },
     "execution_count": 33,
     "metadata": {},
     "output_type": "execute_result"
    }
   ],
   "source": [
    "# Iterative solution for factorial\n",
    "def fact(n):\n",
    "    fact = 1\n",
    "    for i in range(n,1,-1):\n",
    "        fact = fact * i\n",
    "    return fact\n",
    "fact(4)"
   ]
  },
  {
   "cell_type": "code",
   "execution_count": 21,
   "metadata": {},
   "outputs": [
    {
     "data": {
      "text/plain": [
       "120"
      ]
     },
     "execution_count": 21,
     "metadata": {},
     "output_type": "execute_result"
    }
   ],
   "source": [
    "# Recursive solution for factorial\n",
    "def fact(n):\n",
    "    if n==1:\n",
    "        return n\n",
    "    else :\n",
    "        return fact(n-1)*n\n",
    "fact(5)"
   ]
  },
  {
   "cell_type": "markdown",
   "metadata": {},
   "source": [
    "#### Problem 6:\n",
    "#### Problem Statement :\n",
    "Greatest Common factor"
   ]
  },
  {
   "cell_type": "code",
   "execution_count": 34,
   "metadata": {},
   "outputs": [
    {
     "data": {
      "text/plain": [
       "3"
      ]
     },
     "execution_count": 34,
     "metadata": {},
     "output_type": "execute_result"
    }
   ],
   "source": [
    "# Iterative solution for GCD\n",
    "def gcd(a,b):\n",
    "    r = b%a\n",
    "    if(r == 0):\n",
    "        return a\n",
    "    while r != 0:\n",
    "        r = b % a\n",
    "        b = a\n",
    "        a = r\n",
    "    return b\n",
    "gcd(12,39)"
   ]
  },
  {
   "cell_type": "code",
   "execution_count": 28,
   "metadata": {},
   "outputs": [
    {
     "data": {
      "text/plain": [
       "3"
      ]
     },
     "execution_count": 28,
     "metadata": {},
     "output_type": "execute_result"
    }
   ],
   "source": [
    "# Recursive solution for GCD\n",
    "# GCD of two numbers remains the same when smaller parameter is reduced to the remainder and the larger parameter is replaced\n",
    "# to\n",
    "# gcd(a,b)=gcd(b%a,a)\n",
    "def gcdRecursive(a,b):\n",
    "    if b % a == 0:\n",
    "        return a\n",
    "    else:\n",
    "        return gcdRecursive(b % a, a)\n",
    "gcdRecursive(12,39)"
   ]
  },
  {
   "cell_type": "markdown",
   "metadata": {},
   "source": [
    "#### Problem 7:\n",
    "#### Problem Statement :\n",
    "Towers of Hanoi"
   ]
  },
  {
   "cell_type": "code",
   "execution_count": 38,
   "metadata": {
    "scrolled": true
   },
   "outputs": [
    {
     "name": "stdout",
     "output_type": "stream",
     "text": [
      "Move 1 disk from A to C\n",
      "Move 2 disk from A to B\n",
      "Move 1 disk from C to B\n",
      "Move 3 disk from A to C\n",
      "Move 1 disk from B to A\n",
      "Move 2 disk from B to C\n",
      "Move 1 disk from A to C\n"
     ]
    }
   ],
   "source": [
    "def TowersOfHanoi(n,source,temp,dest):\n",
    "    if n == 1:\n",
    "        print('Move',n,'disk from',source,'to',dest)\n",
    "        return\n",
    "    else:\n",
    "        TowersOfHanoi(n-1,source,dest,temp)\n",
    "        print('Move',n,'disk from',source,'to',dest)\n",
    "        TowersOfHanoi(n-1,temp,source,dest)\n",
    "        return\n",
    "TowersOfHanoi(3,'A','B','C')"
   ]
  },
  {
   "cell_type": "markdown",
   "metadata": {},
   "source": [
    "#### Problem 8:\n",
    "#### Problem Statement : \n",
    "Generate Nth Fibonacci number using Recursion"
   ]
  },
  {
   "cell_type": "code",
   "execution_count": 63,
   "metadata": {},
   "outputs": [
    {
     "name": "stdout",
     "output_type": "stream",
     "text": [
      "2\n"
     ]
    }
   ],
   "source": [
    "# Iterative solution\n",
    "def Fib(n):\n",
    "    f1 = 0\n",
    "    f2 = 1\n",
    "    if n == 1:\n",
    "        return f1\n",
    "    elif n == 2:\n",
    "        return f2\n",
    "    else:  \n",
    "        for i in range(3,n+1):\n",
    "            f3 = f1 + f2\n",
    "            f1 = f2\n",
    "            f2 = f3\n",
    "        print(f3)\n",
    "Fib(4)"
   ]
  },
  {
   "cell_type": "code",
   "execution_count": 64,
   "metadata": {},
   "outputs": [
    {
     "data": {
      "text/plain": [
       "34"
      ]
     },
     "execution_count": 64,
     "metadata": {},
     "output_type": "execute_result"
    }
   ],
   "source": [
    "# Recursive Solution\n",
    "def Fib(n):\n",
    "    if n==1:\n",
    "        return 0\n",
    "    if n == 2:\n",
    "        return 1\n",
    "    else:\n",
    "        return (Fib(n-1)+Fib(n-2))\n",
    "Fib(10)"
   ]
  },
  {
   "cell_type": "markdown",
   "metadata": {},
   "source": [
    "#### Problem 9:\n",
    "#### Problem Statement :\n",
    "First N Prime Number"
   ]
  },
  {
   "cell_type": "code",
   "execution_count": 75,
   "metadata": {},
   "outputs": [],
   "source": [
    "def IsPrime(n):\n",
    "    count=0\n",
    "    for i in range(2,n):\n",
    "        if(n % i == 0):\n",
    "            count=count+1\n",
    "    if count==0:\n",
    "        return True\n",
    "    else:\n",
    "        return False"
   ]
  },
  {
   "cell_type": "code",
   "execution_count": 72,
   "metadata": {},
   "outputs": [
    {
     "name": "stdout",
     "output_type": "stream",
     "text": [
      "2 3 5 7 11 13 17 19 23 29 "
     ]
    }
   ],
   "source": [
    "def NPrime(n):\n",
    "    count =0\n",
    "    i=2\n",
    "    while(count!= n):\n",
    "        if(IsPrime(i)== True):\n",
    "            print(i,end=\" \")\n",
    "            count = count + 1\n",
    "        i = i+1\n",
    "NPrime(10)"
   ]
  },
  {
   "cell_type": "code",
   "execution_count": null,
   "metadata": {},
   "outputs": [],
   "source": []
  }
 ],
 "metadata": {
  "kernelspec": {
   "display_name": "Python 3",
   "language": "python",
   "name": "python3"
  },
  "language_info": {
   "codemirror_mode": {
    "name": "ipython",
    "version": 3
   },
   "file_extension": ".py",
   "mimetype": "text/x-python",
   "name": "python",
   "nbconvert_exporter": "python",
   "pygments_lexer": "ipython3",
   "version": "3.7.1"
  }
 },
 "nbformat": 4,
 "nbformat_minor": 2
}
