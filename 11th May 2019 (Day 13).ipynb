{
 "cells": [
  {
   "cell_type": "markdown",
   "metadata": {},
   "source": [
    "#### Problem Solving and programming\n",
    "#### Day No - 13\n",
    "#### Date - 11th May 2019\n",
    "#### Day Objectives -\n",
    "1. Objective 1\n",
    "2. Objective 2\n",
    "3. Objective 3"
   ]
  },
  {
   "cell_type": "markdown",
   "metadata": {},
   "source": [
    "#### Problem 1:\n",
    "#### Problem Statement :\n",
    "#### Define a function to merge the characters of two strings alternatively. The remaining characters of the longer string are printed in the same order at the end.\n",
    "#### Test Cases :\n",
    "1. mergeString('abcd', 'abcd') -> 'aabbccdd'\n",
    "2. mergeString('abc', '123456') -> 'a1b2c3456'\n",
    "3. mergeString('0', '123456') -> '0123456'"
   ]
  },
  {
   "cell_type": "code",
   "execution_count": 2,
   "metadata": {},
   "outputs": [
    {
     "name": "stdout",
     "output_type": "stream",
     "text": [
      "aabbccdd"
     ]
    }
   ],
   "source": [
    "def mergestring(str1,str2):\n",
    "    if len(str1)<len(str2):\n",
    "        small = str1\n",
    "    else :\n",
    "        small = str2\n",
    "    for i in range(0,len(small)):\n",
    "        print(str1[i]+str2[i],end='')\n",
    "    j = len(small)\n",
    "    if str1 == small:\n",
    "        while j<len(str2):\n",
    "            print(str2[j],end='')\n",
    "            j = j+1\n",
    "        else :\n",
    "            while j<len(str1):\n",
    "                print(str1[j],end='')\n",
    "                j = j+1\n",
    "mergestring('abcd','abcd')"
   ]
  },
  {
   "cell_type": "markdown",
   "metadata": {},
   "source": [
    "#### Problem 2:\n",
    "#### Problem Statement :\n",
    "Define a function to convert a binary number to the corresponding decimal number\n",
    "#### Constraints :\n",
    "#### Test Cases :\n",
    "1. binaryToDecimal(1100) -> 12\n",
    "2. binaryToDecimal(1010) -> 10\n",
    "3. binaryToDecimal(111000) -> 56"
   ]
  },
  {
   "cell_type": "code",
   "execution_count": 3,
   "metadata": {},
   "outputs": [
    {
     "data": {
      "text/plain": [
       "56"
      ]
     },
     "execution_count": 3,
     "metadata": {},
     "output_type": "execute_result"
    }
   ],
   "source": [
    "def btod(n):\n",
    "    add = 0\n",
    "    i = 0\n",
    "    while n>0:\n",
    "        r = n % 10\n",
    "        add = add + r*2**i\n",
    "        n = int(n/10)\n",
    "        i = i+1\n",
    "    return add\n",
    "btod(111000)"
   ]
  },
  {
   "cell_type": "markdown",
   "metadata": {},
   "source": [
    "#### Problem 3:\n",
    "#### Problem Statement :\n",
    "Define a function to identity the number of times a substring is repeating in a given string.\n",
    "#### Test Cases :\n",
    "1. substringCount('str', 'substr') -> 1\n",
    "2. substringCount('1234567891122334455', '3') -> 3\n",
    "3. substringCount('abccddccc', 'cc') -> 3\n",
    "4. substringCount('aaaaaaa', 'aaa' ) -> 5\n"
   ]
  },
  {
   "cell_type": "code",
   "execution_count": 4,
   "metadata": {},
   "outputs": [
    {
     "data": {
      "text/plain": [
       "1"
      ]
     },
     "execution_count": 4,
     "metadata": {},
     "output_type": "execute_result"
    }
   ],
   "source": [
    "def substringcount(str1,str2):\n",
    "    count = 0\n",
    "    if len(str1)<len(str2):\n",
    "        small = str1\n",
    "        big = str2\n",
    "    else:\n",
    "        small = str2\n",
    "        big = str1\n",
    "    blen = len(big)\n",
    "    slen = len(small)\n",
    "    for i in range(0,blen-slen+1):\n",
    "        if small[:]==big[i:slen+i]:\n",
    "            count = count + 1\n",
    "    return count\n",
    "substringcount('str','substr')"
   ]
  },
  {
   "cell_type": "markdown",
   "metadata": {},
   "source": [
    "#### Problem 4:\n",
    "#### Problem Statement :\n",
    "Define a function to check if a given year is a leap year. Returns a boolean value\n",
    "#### Test Cases :\n",
    "1. 2000 -> True\n",
    "2. 1900 -> False\n",
    "3. 2012 -> True\n",
    "4. 2020 -> True\n",
    "5. 0200 -> False"
   ]
  },
  {
   "cell_type": "code",
   "execution_count": 5,
   "metadata": {},
   "outputs": [
    {
     "data": {
      "text/plain": [
       "True"
      ]
     },
     "execution_count": 5,
     "metadata": {},
     "output_type": "execute_result"
    }
   ],
   "source": [
    "def leapyear(year):\n",
    "    return ((year%4 ==0 and year % 100 !=0) or (year % 400 == 0))\n",
    "leapyear(2012)"
   ]
  },
  {
   "cell_type": "markdown",
   "metadata": {},
   "source": [
    "#### Problem 5:\n",
    "#### Problem Statement :\n",
    "Define a function to find the average of all the outer elements of an N x M matrix.\n",
    "#### Test Cases :\n",
    "averageOuterMatrix([[1, 2, 3], [4, 5, 6], [7, 8, 9], [10, 11, 12]] -> 6.5\n"
   ]
  },
  {
   "cell_type": "code",
   "execution_count": 6,
   "metadata": {},
   "outputs": [
    {
     "data": {
      "text/plain": [
       "6.5"
      ]
     },
     "execution_count": 6,
     "metadata": {},
     "output_type": "execute_result"
    }
   ],
   "source": [
    "def averageOuterMatrix(a):\n",
    "        sum = 0\n",
    "        count = 0\n",
    "        for i in range(0,len(a)):\n",
    "            if i==0 or i==len(a)-1:\n",
    "                for j in range(0,len(a[i])):\n",
    "                    sum = sum + a[i][j]\n",
    "                    count = count+1\n",
    "                else:\n",
    "                    sum = sum + a[i][0]+a[i][len(a[i])-1]\n",
    "                    count = count+2\n",
    "        return sum/count\n",
    "averageOuterMatrix([[1,2,3],[4,5,6],[7,8,9],[10,11,12]])"
   ]
  },
  {
   "cell_type": "markdown",
   "metadata": {},
   "source": [
    "#### Problem 6 :\n",
    "#### Problem Statement :\n",
    "Define a function to print the sequence of spiral pattern elements for a given N x N matrix\n",
    "#### Test Cases :\n",
    "spiralPattern([[1,2,3], [4,5,6], [7,8,9]]) -> 1 2 3 6 9 8 7 4 5\n"
   ]
  },
  {
   "cell_type": "code",
   "execution_count": 7,
   "metadata": {},
   "outputs": [
    {
     "name": "stdout",
     "output_type": "stream",
     "text": [
      "123698745 "
     ]
    }
   ],
   "source": [
    "def spiral(a):\n",
    "    n = len(a)-1\n",
    "    for j in range(0,len(a[0])):\n",
    "        print(a[0][j],end = '')\n",
    "    i = 1\n",
    "    while(i<len(a)-1):\n",
    "        print(a[i][len(a[i])-1],end= '')\n",
    "        i = i+1\n",
    "    for j in range(len(a[n])-1,-1,-1):\n",
    "        print(a[n][j],end='')\n",
    "    i = n-1\n",
    "    while i > 0:\n",
    "        print(a[i][0],end='')\n",
    "        i = i-1\n",
    "    for i in range(1,len(a)-1):\n",
    "        for j in range(1,len(a[i])-1):\n",
    "            print(a[i][j],end=' ')\n",
    "spiral([[1,2,3],[4,5,6],[7,8,9]])"
   ]
  },
  {
   "cell_type": "markdown",
   "metadata": {},
   "source": [
    "#### Problem 7 :\n",
    "#### Problem Statement :\n",
    "Define a function to convert a decimal number to the corresponding binary number\n",
    "#### Test Cases :\n",
    "1. decimalToBinary(15) -> 1111\n",
    "2. decimalToBinary(1) -> 1"
   ]
  },
  {
   "cell_type": "code",
   "execution_count": 8,
   "metadata": {},
   "outputs": [
    {
     "name": "stdout",
     "output_type": "stream",
     "text": [
      "1 0 1 0 0 "
     ]
    }
   ],
   "source": [
    "def dtob(n):\n",
    "    if n>1:\n",
    "        dtob(n//2)\n",
    "    print(n%2,end=' ')\n",
    "dtob(20)"
   ]
  }
 ],
 "metadata": {
  "kernelspec": {
   "display_name": "Python 3",
   "language": "python",
   "name": "python3"
  },
  "language_info": {
   "codemirror_mode": {
    "name": "ipython",
    "version": 3
   },
   "file_extension": ".py",
   "mimetype": "text/x-python",
   "name": "python",
   "nbconvert_exporter": "python",
   "pygments_lexer": "ipython3",
   "version": "3.7.1"
  }
 },
 "nbformat": 4,
 "nbformat_minor": 2
}
