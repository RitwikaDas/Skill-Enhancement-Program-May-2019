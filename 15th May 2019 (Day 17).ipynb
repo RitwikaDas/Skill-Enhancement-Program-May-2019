{
 "cells": [
  {
   "cell_type": "markdown",
   "metadata": {},
   "source": [
    "## Packages and Modules\n",
    "\n",
    "Packages - Collection of python scripts(.py)\n",
    "\n",
    "Subpackages - Package inside a package\n",
    "\n",
    "Module - A Python Script\n"
   ]
  },
  {
   "cell_type": "code",
   "execution_count": 38,
   "metadata": {},
   "outputs": [
    {
     "data": {
      "text/plain": [
       "24"
      ]
     },
     "execution_count": 38,
     "metadata": {},
     "output_type": "execute_result"
    }
   ],
   "source": [
    "from PythonScripts.test1 import factorial\n",
    "factorial(4)"
   ]
  },
  {
   "cell_type": "code",
   "execution_count": 39,
   "metadata": {},
   "outputs": [
    {
     "data": {
      "text/plain": [
       "36"
      ]
     },
     "execution_count": 39,
     "metadata": {},
     "output_type": "execute_result"
    }
   ],
   "source": [
    "from PythonScripts.test1 import sumN\n",
    "sumN(8)"
   ]
  },
  {
   "cell_type": "code",
   "execution_count": 41,
   "metadata": {},
   "outputs": [
    {
     "data": {
      "text/plain": [
       "120"
      ]
     },
     "execution_count": 41,
     "metadata": {},
     "output_type": "execute_result"
    }
   ],
   "source": [
    "import PythonScripts.test1\n",
    "PythonScripts.test1.factorial(5)"
   ]
  },
  {
   "cell_type": "code",
   "execution_count": 42,
   "metadata": {},
   "outputs": [
    {
     "data": {
      "text/plain": [
       "55"
      ]
     },
     "execution_count": 42,
     "metadata": {},
     "output_type": "execute_result"
    }
   ],
   "source": [
    "import PythonScripts.test1\n",
    "PythonScripts.test1.sumN(10)"
   ]
  },
  {
   "cell_type": "code",
   "execution_count": 43,
   "metadata": {},
   "outputs": [
    {
     "data": {
      "text/plain": [
       "120"
      ]
     },
     "execution_count": 43,
     "metadata": {},
     "output_type": "execute_result"
    }
   ],
   "source": [
    "import PythonScripts.test1 as te\n",
    "te.factorial(5)"
   ]
  },
  {
   "cell_type": "code",
   "execution_count": 45,
   "metadata": {},
   "outputs": [
    {
     "data": {
      "text/plain": [
       "120"
      ]
     },
     "execution_count": 45,
     "metadata": {},
     "output_type": "execute_result"
    }
   ],
   "source": [
    "from PythonScripts.test1 import factorial\n",
    "factorial(5)"
   ]
  },
  {
   "cell_type": "code",
   "execution_count": 46,
   "metadata": {},
   "outputs": [
    {
     "data": {
      "text/plain": [
       "120"
      ]
     },
     "execution_count": 46,
     "metadata": {},
     "output_type": "execute_result"
    }
   ],
   "source": [
    "from PythonScripts.test1 import *\n",
    "factorial(5)"
   ]
  },
  {
   "cell_type": "code",
   "execution_count": 47,
   "metadata": {},
   "outputs": [
    {
     "data": {
      "text/plain": [
       "120"
      ]
     },
     "execution_count": 47,
     "metadata": {},
     "output_type": "execute_result"
    }
   ],
   "source": [
    "from PythonScripts.test1 import factorial as f\n",
    "f(5)"
   ]
  },
  {
   "cell_type": "code",
   "execution_count": 8,
   "metadata": {},
   "outputs": [
    {
     "data": {
      "text/plain": [
       "'Pto'"
      ]
     },
     "execution_count": 8,
     "metadata": {},
     "output_type": "execute_result"
    }
   ],
   "source": [
    "from PythonScripts.Strings.stringfun import alternatecharacters as ac\n",
    "ac('Python')"
   ]
  },
  {
   "cell_type": "code",
   "execution_count": 7,
   "metadata": {},
   "outputs": [
    {
     "data": {
      "text/plain": [
       "'nohtyP'"
      ]
     },
     "execution_count": 7,
     "metadata": {},
     "output_type": "execute_result"
    }
   ],
   "source": [
    "from PythonScripts.Strings.stringfun import reverseString\n",
    "reverseString('Python')"
   ]
  },
  {
   "cell_type": "code",
   "execution_count": 2,
   "metadata": {},
   "outputs": [
    {
     "data": {
      "text/plain": [
       "123"
      ]
     },
     "execution_count": 2,
     "metadata": {},
     "output_type": "execute_result"
    }
   ],
   "source": [
    "from math import floor\n",
    "floor(123.45)"
   ]
  },
  {
   "cell_type": "code",
   "execution_count": 3,
   "metadata": {},
   "outputs": [
    {
     "data": {
      "text/plain": [
       "123"
      ]
     },
     "execution_count": 3,
     "metadata": {},
     "output_type": "execute_result"
    }
   ],
   "source": [
    "import math\n",
    "math.floor(123.5)"
   ]
  },
  {
   "cell_type": "markdown",
   "metadata": {},
   "source": [
    "## Regular expressions\n",
    "A set of all possible values that satisfy a given pattern\n",
    " [0-9]\n",
    " [a-z]\n",
    " [A-Z]\n",
    " s*\n",
    " s+\n",
    "re = '^a...s$'"
   ]
  },
  {
   "cell_type": "code",
   "execution_count": 13,
   "metadata": {},
   "outputs": [
    {
     "name": "stdout",
     "output_type": "stream",
     "text": [
      "Match\n"
     ]
    }
   ],
   "source": [
    "import re\n",
    "pattern = '^g.....$' # .,*\n",
    "domain = 'google'\n",
    "if re.match(pattern,domain):\n",
    "    print('Match')\n",
    "else:\n",
    "    print('Does not match')"
   ]
  },
  {
   "cell_type": "code",
   "execution_count": 16,
   "metadata": {},
   "outputs": [
    {
     "name": "stdout",
     "output_type": "stream",
     "text": [
      "Match\n"
     ]
    }
   ],
   "source": [
    "import re\n",
    "pattern = '^[a-z]$' # [a-z] represents only 1 character\n",
    "domain = 'g'\n",
    "if re.match(pattern,domain):\n",
    "    print('Match')\n",
    "else:\n",
    "    print('Does not match')"
   ]
  },
  {
   "cell_type": "code",
   "execution_count": 25,
   "metadata": {},
   "outputs": [
    {
     "name": "stdout",
     "output_type": "stream",
     "text": [
      "Match\n"
     ]
    }
   ],
   "source": [
    "import re\n",
    "pattern = '^[a-z]{2}$' # [a-z]{2} represents any 2 fixed characters \n",
    "domain = 'go'\n",
    "if re.match(pattern,domain):\n",
    "    print('Match')\n",
    "else:\n",
    "    print('Does not match')"
   ]
  },
  {
   "cell_type": "code",
   "execution_count": 24,
   "metadata": {},
   "outputs": [
    {
     "name": "stdout",
     "output_type": "stream",
     "text": [
      "Match\n"
     ]
    }
   ],
   "source": [
    "import re\n",
    "pattern = '^[a-z]{2}' # if there is no dolar then it checks whether the first two characters are between a-z and has no limit to length \n",
    "domain = 'gooooo'\n",
    "if re.match(pattern,domain):\n",
    "    print('Match')\n",
    "else:\n",
    "    print('Does not match')"
   ]
  },
  {
   "cell_type": "code",
   "execution_count": 26,
   "metadata": {},
   "outputs": [
    {
     "name": "stdout",
     "output_type": "stream",
     "text": [
      "Match\n"
     ]
    }
   ],
   "source": [
    "import re\n",
    "pattern = '^[a-z]{3,9}$' # \n",
    "domain = 'gooooo'\n",
    "if re.match(pattern,domain):\n",
    "    print('Match')\n",
    "else:\n",
    "    print('Does not match')"
   ]
  },
  {
   "cell_type": "code",
   "execution_count": 29,
   "metadata": {},
   "outputs": [
    {
     "name": "stdout",
     "output_type": "stream",
     "text": [
      "Match\n"
     ]
    }
   ],
   "source": [
    "import re\n",
    "pattern = '^[1-9][0-9]{5}$' # checking postal code\n",
    "domain = '500049'\n",
    "if re.match(pattern,domain):\n",
    "    print('Match')\n",
    "else:\n",
    "    print('Does not match')"
   ]
  },
  {
   "cell_type": "code",
   "execution_count": 33,
   "metadata": {},
   "outputs": [
    {
     "name": "stdout",
     "output_type": "stream",
     "text": [
      "Match\n"
     ]
    }
   ],
   "source": [
    "import re\n",
    "pattern = '^[6-9][0-9]{9}$' \n",
    "domain = '6498651074'         # Checking phone no\n",
    "if re.match(pattern,domain):\n",
    "    print('Match')\n",
    "else:\n",
    "    print('Does not match')"
   ]
  },
  {
   "cell_type": "code",
   "execution_count": 35,
   "metadata": {},
   "outputs": [
    {
     "name": "stdout",
     "output_type": "stream",
     "text": [
      "Match\n"
     ]
    }
   ],
   "source": [
    "import re\n",
    "pattern = '^[+][9][1][ ][6-9][0-9]{9}$' \n",
    "domain = '+91 6498651074'    # Checking phone no with +91\n",
    "if re.match(pattern,domain):\n",
    "    print('Match')\n",
    "else:\n",
    "    print('Does not match')"
   ]
  },
  {
   "cell_type": "code",
   "execution_count": 36,
   "metadata": {},
   "outputs": [
    {
     "name": "stdout",
     "output_type": "stream",
     "text": [
      "Match\n"
     ]
    }
   ],
   "source": [
    "import re\n",
    "pattern = '^[a-z][a-z0-9_.-]{5,13}[a-z0-9][@][0-9a-z]{3,9}[.][a-z]{2,3}$' \n",
    "domain = 'rit-da26_s@gmail.com'    # Checking email id\n",
    "if re.match(pattern,domain):\n",
    "    print('Match')\n",
    "else:\n",
    "    print('Does not match')"
   ]
  },
  {
   "cell_type": "markdown",
   "metadata": {},
   "source": [
    "## Password validation\n",
    "* should contain atleast 1 uppercase letter\n",
    "* length in the range(6,21)\n",
    "* should contain atleast one special char\n",
    "* should contain atleast 1 digit\n",
    "* should start with upper or lowercase\n"
   ]
  },
  {
   "cell_type": "markdown",
   "metadata": {},
   "source": [
    "## Iterators in Python\n",
    "Lists,Tuples,strings"
   ]
  },
  {
   "cell_type": "code",
   "execution_count": 11,
   "metadata": {},
   "outputs": [
    {
     "name": "stdout",
     "output_type": "stream",
     "text": [
      "1 2 3 4 5 6 1 2 3 4 5 6 "
     ]
    }
   ],
   "source": [
    "li = [1,2,3,4,5,6]\n",
    "for i in li:\n",
    "    print(i,end=' ')\n",
    "type(li)\n",
    "it = iter(li)\n",
    "for i in it:\n",
    "    print(i,end=' ')"
   ]
  },
  {
   "cell_type": "markdown",
   "metadata": {},
   "source": [
    "## Python Generators"
   ]
  },
  {
   "cell_type": "code",
   "execution_count": 12,
   "metadata": {},
   "outputs": [
    {
     "data": {
      "text/plain": [
       "[1, 2, 3, 4, 5, 6, 7, 8, 9]"
      ]
     },
     "execution_count": 12,
     "metadata": {},
     "output_type": "execute_result"
    }
   ],
   "source": [
    "li = [i for i in range(1,10)]\n",
    "li"
   ]
  },
  {
   "cell_type": "code",
   "execution_count": 14,
   "metadata": {},
   "outputs": [
    {
     "data": {
      "text/plain": [
       "2025"
      ]
     },
     "execution_count": 14,
     "metadata": {},
     "output_type": "execute_result"
    }
   ],
   "source": [
    "li = [i ** 3 for i in range(1,10)]\n",
    "li\n",
    "sum(li)"
   ]
  },
  {
   "cell_type": "code",
   "execution_count": 18,
   "metadata": {},
   "outputs": [
    {
     "name": "stdout",
     "output_type": "stream",
     "text": [
      "1 8 27 64 125 216 343 512 729 1000 "
     ]
    }
   ],
   "source": [
    "gn = (i**3 for i in range(1,11))\n",
    "for i in gn:\n",
    "    print(i,end=' ')"
   ]
  }
 ],
 "metadata": {
  "kernelspec": {
   "display_name": "Python 3",
   "language": "python",
   "name": "python3"
  },
  "language_info": {
   "codemirror_mode": {
    "name": "ipython",
    "version": 3
   },
   "file_extension": ".py",
   "mimetype": "text/x-python",
   "name": "python",
   "nbconvert_exporter": "python",
   "pygments_lexer": "ipython3",
   "version": "3.7.1"
  }
 },
 "nbformat": 4,
 "nbformat_minor": 2
}
