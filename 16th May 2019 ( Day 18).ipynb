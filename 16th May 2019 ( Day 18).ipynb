{
 "cells": [
  {
   "cell_type": "markdown",
   "metadata": {},
   "source": [
    "## File Handling/Data Processing"
   ]
  },
  {
   "cell_type": "markdown",
   "metadata": {},
   "source": [
    "#### Problem 1:\n",
    "#### Problem Statement :\n",
    "Define a function to read data from a text file\n",
    "#### Constraints:\n",
    "#### Test Cases :\n"
   ]
  },
  {
   "cell_type": "code",
   "execution_count": 1,
   "metadata": {},
   "outputs": [
    {
     "data": {
      "text/plain": [
       "'Data in line 1\\n'"
      ]
     },
     "execution_count": 1,
     "metadata": {},
     "output_type": "execute_result"
    }
   ],
   "source": [
    "def readFileData(filename):\n",
    "    f = open(filename,'r') # r is to read the data\n",
    "    filedata = f.readline() # Displays the first line of the file\n",
    "    f.close()\n",
    "    return filedata\n",
    "readFileData('DataFiles/data.txt')"
   ]
  },
  {
   "cell_type": "code",
   "execution_count": 2,
   "metadata": {},
   "outputs": [
    {
     "data": {
      "text/plain": [
       "'Data in line 1\\nData in line 2\\n'"
      ]
     },
     "execution_count": 2,
     "metadata": {},
     "output_type": "execute_result"
    }
   ],
   "source": [
    "def readFileData(filename):\n",
    "    f = open(filename,'r')\n",
    "    filedata = f.readline() # Displays the first line of file\n",
    "    filedata += f.readline() # Second line appends with first line\n",
    "    f.close()\n",
    "    return filedata\n",
    "readFileData('DataFiles/data.txt')"
   ]
  },
  {
   "cell_type": "code",
   "execution_count": 3,
   "metadata": {},
   "outputs": [
    {
     "data": {
      "text/plain": [
       "'Data in line 1\\nData in line 2\\nData in line 3'"
      ]
     },
     "execution_count": 3,
     "metadata": {},
     "output_type": "execute_result"
    }
   ],
   "source": [
    "def readFileData(filename):\n",
    "    f = open(filename,'r')\n",
    "    filedata = f.read() # Reads the entire file\n",
    "    f.close()\n",
    "    return filedata\n",
    "readFileData('DataFiles/data.txt')"
   ]
  },
  {
   "cell_type": "code",
   "execution_count": 6,
   "metadata": {},
   "outputs": [
    {
     "data": {
      "text/plain": [
       "'Data in line 1\\n'"
      ]
     },
     "execution_count": 6,
     "metadata": {},
     "output_type": "execute_result"
    }
   ],
   "source": [
    "def readFileData(filename):\n",
    "    with open(filename,'r') as f: #with allows to directly open and close the file instead of using close. f is a handler or descriptor.\n",
    "        filedata = f.readline()\n",
    "    return filedata\n",
    "readFileData('DataFiles/data.txt')"
   ]
  },
  {
   "cell_type": "code",
   "execution_count": 8,
   "metadata": {},
   "outputs": [
    {
     "name": "stdout",
     "output_type": "stream",
     "text": [
      "Data in line 1\n",
      "Data in line 2\n",
      "Data in line 3"
     ]
    }
   ],
   "source": [
    "def readFileData(filename):\n",
    "    with open(filename,'r') as f: #with allows to directly open and close the file instead of using close.\n",
    "        for line in f:\n",
    "            print(line,end='') #print understands the /n and space characters and prints the statements\n",
    "    return\n",
    "readFileData('DataFiles/data.txt')"
   ]
  },
  {
   "cell_type": "code",
   "execution_count": 9,
   "metadata": {},
   "outputs": [
    {
     "name": "stdout",
     "output_type": "stream",
     "text": [
      "Data in line 1\n",
      "Data in line 2\n",
      "Data in line 3\n"
     ]
    }
   ],
   "source": [
    "def readFileData(filename):\n",
    "    with open(filename,'r') as f: #with allows to directly open and close the file instead of using close.\n",
    "            print(f.read()) #print understands the /n and space characters and prints the statements.\n",
    "                            #Instead of using for loop we can us f.read to print the entire file\n",
    "    return\n",
    "readFileData('DataFiles/data.txt')"
   ]
  },
  {
   "cell_type": "code",
   "execution_count": 10,
   "metadata": {},
   "outputs": [],
   "source": [
    "def writeIntoFile(filename,data):\n",
    "    with open(filename,'w') as f: #w is to write the data\n",
    "        f.write(data)\n",
    "    return\n",
    "writeIntoFile('DataFiles/fileWrite.txt','data written into fileWrite')"
   ]
  },
  {
   "cell_type": "code",
   "execution_count": 12,
   "metadata": {},
   "outputs": [],
   "source": [
    "def writeIntoFile(filename,data,mode):\n",
    "    with open(filename,mode) as f:\n",
    "        f.write(data)\n",
    "    return\n",
    "writeIntoFile('DataFiles/fileWrite.txt','\\nsecond line','a') # append will directly add new data to existing data"
   ]
  },
  {
   "cell_type": "markdown",
   "metadata": {},
   "source": [
    "## Functional Programming"
   ]
  },
  {
   "cell_type": "markdown",
   "metadata": {},
   "source": [
    "#### Problem 2\n",
    "#### Problem Statement  :\n",
    "Define a function to generate a marks data file for 1300 students such that each mark is entered in a new line.\n",
    "Marks range from 0 to 100 (inclusive) as random numbers.\n"
   ]
  },
  {
   "cell_type": "code",
   "execution_count": 68,
   "metadata": {},
   "outputs": [],
   "source": [
    "import random\n",
    "def generateMarksData(n,filename):\n",
    "    with open(filename,'w') as marksfile:\n",
    "        for i in range(0,n):\n",
    "            marks = random.randint(0,100)\n",
    "            marksfile.write(str(marks)+'\\n')\n",
    "generateMarksData(1300,'DataFiles/marksData.txt')"
   ]
  },
  {
   "cell_type": "markdown",
   "metadata": {},
   "source": [
    "#### Problem 3 :\n",
    "#### Problem Statement :\n",
    "Generate a report on the marks data with the following indicators.\n",
    "* Highest Mark :\n",
    "* Lowest Mark :\n",
    "* Average Mark :\n",
    "* No of students with distinction(>80):\n",
    "* No of students with first class(>60):\n",
    "* No of students with second class(>50):\n",
    "* No of students with third class(>40):\n",
    "* No of students failed(<40):"
   ]
  },
  {
   "cell_type": "code",
   "execution_count": 8,
   "metadata": {},
   "outputs": [],
   "source": [
    "import random\n",
    "def readMarksFromFile(filename):\n",
    "    marks_li=[]\n",
    "    with open(filename,'r') as f:\n",
    "        for x in f:\n",
    "            marks_li.append(int(x))\n",
    "    writeMarksIntoFile('DataFiles/reportFile.txt',marks_li)\n",
    "def writeMarksIntoFile(filename,arr):\n",
    "    dist = 0\n",
    "    first = 0\n",
    "    second = 0\n",
    "    third = 0\n",
    "    fail = 0\n",
    "    with open(filename,'w') as reportFile:\n",
    "        reportFile.write(\"Highest is: \"+str(max(arr))+'\\n')\n",
    "        reportFile.write(\"Lowest is: \"+str(min(arr))+'\\n')\n",
    "        reportFile.write(\"Average is: \"+str(sum(arr)//len(arr))+'\\n')\n",
    "        for i in range(0,len(arr)):\n",
    "            if(arr[i]>=80):\n",
    "                dist = dist+1\n",
    "            elif(arr[i]>=60 and arr[i]<80):\n",
    "                first = first+1\n",
    "            elif(arr[i]>=50 and arr[i]<60):\n",
    "                second = second+1\n",
    "            elif(arr[i]>=40 and arr[i]<50):\n",
    "                third = third + 1\n",
    "            else:\n",
    "                fail = fail+1\n",
    "        reportFile.write(\"Distinction : \"+str(dist)+'\\n')\n",
    "        reportFile.write(\"First class : \"+str(first)+'\\n')\n",
    "        reportFile.write(\"Second class : \"+str(second)+'\\n')\n",
    "        reportFile.write(\"Third class : \"+str(third)+'\\n')\n",
    "        reportFile.write(\"Failed : \"+str(fail)+'\\n')\n",
    "    return\n",
    "readMarksFromFile('DataFiles/marksData.txt')"
   ]
  },
  {
   "cell_type": "code",
   "execution_count": 7,
   "metadata": {},
   "outputs": [
    {
     "data": {
      "text/plain": [
       "0.006674660000044241"
      ]
     },
     "execution_count": 7,
     "metadata": {},
     "output_type": "execute_result"
    }
   ],
   "source": [
    "import re, timeit\n",
    "def generateMarksReport(marksfile):\n",
    "    start = timeit.default_timer()\n",
    "    marksdata = readMarksFromFile(marksfile)\n",
    "    return timeit.default_timer() - start\n",
    "generateMarksReport('DataFiles/marksData.txt')"
   ]
  },
  {
   "cell_type": "code",
   "execution_count": 58,
   "metadata": {},
   "outputs": [
    {
     "data": {
      "text/plain": [
       "'1'"
      ]
     },
     "execution_count": 58,
     "metadata": {},
     "output_type": "execute_result"
    }
   ],
   "source": [
    "li =[1,2,3,4,5,6]\n",
    "#s = str(li)\n",
    "s = list(map(str,li))\n",
    "s[0]"
   ]
  },
  {
   "cell_type": "code",
   "execution_count": 60,
   "metadata": {},
   "outputs": [
    {
     "data": {
      "text/plain": [
       "36"
      ]
     },
     "execution_count": 60,
     "metadata": {},
     "output_type": "execute_result"
    }
   ],
   "source": [
    "def squares(n):\n",
    "    return n*n\n",
    "li =[1,2,3,4,5,6]\n",
    "s = list(map(squares,li))\n",
    "s[5]"
   ]
  },
  {
   "cell_type": "code",
   "execution_count": 63,
   "metadata": {},
   "outputs": [
    {
     "data": {
      "text/plain": [
       "[1.0, 2.0, 3.0, 4.0, 5.0, 6.0]"
      ]
     },
     "execution_count": 63,
     "metadata": {},
     "output_type": "execute_result"
    }
   ],
   "source": [
    "\n",
    "s = [float(i) for i in s]\n",
    "s"
   ]
  },
  {
   "cell_type": "code",
   "execution_count": 65,
   "metadata": {},
   "outputs": [
    {
     "name": "stdout",
     "output_type": "stream",
     "text": [
      "0.0001488880006945692\n"
     ]
    }
   ],
   "source": [
    "import timeit\n",
    "start = timeit.default_timer()\n",
    "li = [1,2,3,4,5,6]\n",
    "s = list(map(str,li))\n",
    "s = [float(i) for i in s]\n",
    "print(timeit.default_timer()-start)"
   ]
  },
  {
   "cell_type": "markdown",
   "metadata": {},
   "source": [
    "## External Libraries\n",
    "#### SciPy.org"
   ]
  },
  {
   "cell_type": "code",
   "execution_count": 70,
   "metadata": {},
   "outputs": [
    {
     "name": "stdout",
     "output_type": "stream",
     "text": [
      "[0 1 2]\n"
     ]
    },
    {
     "data": {
      "text/plain": [
       "numpy.ndarray"
      ]
     },
     "execution_count": 70,
     "metadata": {},
     "output_type": "execute_result"
    }
   ],
   "source": [
    "import numpy as np\n",
    "a =np.array([0,1,2])\n",
    "print(a)\n",
    "type(a)"
   ]
  },
  {
   "cell_type": "code",
   "execution_count": 71,
   "metadata": {},
   "outputs": [
    {
     "name": "stdout",
     "output_type": "stream",
     "text": [
      "[[0 1 2]\n",
      " [3 4 5]]\n"
     ]
    },
    {
     "data": {
      "text/plain": [
       "numpy.ndarray"
      ]
     },
     "execution_count": 71,
     "metadata": {},
     "output_type": "execute_result"
    }
   ],
   "source": [
    "import numpy as np\n",
    "a =np.array([[0,1,2],[3,4,5]])\n",
    "print(a)\n",
    "type(a)"
   ]
  }
 ],
 "metadata": {
  "kernelspec": {
   "display_name": "Python 3",
   "language": "python",
   "name": "python3"
  },
  "language_info": {
   "codemirror_mode": {
    "name": "ipython",
    "version": 3
   },
   "file_extension": ".py",
   "mimetype": "text/x-python",
   "name": "python",
   "nbconvert_exporter": "python",
   "pygments_lexer": "ipython3",
   "version": "3.7.1"
  }
 },
 "nbformat": 4,
 "nbformat_minor": 2
}
