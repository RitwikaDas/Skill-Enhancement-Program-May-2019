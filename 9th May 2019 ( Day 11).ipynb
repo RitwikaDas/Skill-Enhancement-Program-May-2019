{
 "cells": [
  {
   "cell_type": "markdown",
   "metadata": {},
   "source": [
    "## Problem Solving and programming\n",
    "#### Day No - 11\n",
    "#### Date - 9th May 2019\n",
    "\n",
    "### Day Objectives\n",
    "\n",
    "1. Objective 1\n",
    "2. Objective 2\n",
    "3. Objective 3"
   ]
  },
  {
   "cell_type": "markdown",
   "metadata": {},
   "source": [
    "#### Problem 1:\n",
    "#### Problem statement :\n",
    "Greet User"
   ]
  },
  {
   "cell_type": "code",
   "execution_count": null,
   "metadata": {},
   "outputs": [],
   "source": [
    "print('Hello')"
   ]
  },
  {
   "cell_type": "markdown",
   "metadata": {},
   "source": [
    "#### Problem 2:\n",
    "#### Problem statement :\n",
    "Greeting a specific user\n"
   ]
  },
  {
   "cell_type": "code",
   "execution_count": null,
   "metadata": {},
   "outputs": [],
   "source": [
    "a = input(\"Enter a user name \")\n",
    "print(f\"Hello {a}\")"
   ]
  },
  {
   "cell_type": "markdown",
   "metadata": {},
   "source": [
    "#### Problem 3:\n",
    "#### Problem Statement : \n",
    "Arithmetic Operations"
   ]
  },
  {
   "cell_type": "code",
   "execution_count": null,
   "metadata": {},
   "outputs": [],
   "source": [
    "n1 = int(input('Enter n1: '))\n",
    "n2 = int(input('Enter n2: '))\n",
    "sum = n1 + n2\n",
    "diff = n1 - n2\n",
    "mul = n1 * n2\n",
    "div = int(n1 / n2)\n",
    "mod = n1 % n2\n",
    "print(f'Sum is {sum}')\n",
    "print(f'Difference is {diff}')\n",
    "print(f'Product is {mul}')\n",
    "print(f'Quotient is {div}')\n",
    "print(f'Modulus is {mod}')"
   ]
  },
  {
   "cell_type": "markdown",
   "metadata": {},
   "source": [
    "#### Problem 4:\n",
    "#### Problem Statement :\n",
    "Even or odd"
   ]
  },
  {
   "cell_type": "code",
   "execution_count": null,
   "metadata": {},
   "outputs": [],
   "source": [
    "n = int(input('Enter n: '))\n",
    "if (n % 2 == 0):\n",
    "    print(f'{n} is a even number')\n",
    "else:\n",
    "    print(f'{n} is a odd number')    "
   ]
  },
  {
   "cell_type": "markdown",
   "metadata": {},
   "source": [
    "#### Problem 5:\n",
    "#### Problem Statement :\n",
    "Finding greatest of three numbers"
   ]
  },
  {
   "cell_type": "code",
   "execution_count": null,
   "metadata": {
    "scrolled": true
   },
   "outputs": [],
   "source": [
    "n1 = int(input(\"Enter n1: \"))\n",
    "n2 = int(input(\"Enter n2: \"))\n",
    "n3 = int(input(\"Enter n3: \"))\n",
    "if (n1 > n2 and n1 > n3):\n",
    "    print(f'{n1} is greatest of all')\n",
    "elif (n2 > n3 and n2 > n1):\n",
    "    print(f'{n2} is greatest of all')\n",
    "else:\n",
    "    print(f'{n3} is greatest of all')"
   ]
  },
  {
   "cell_type": "markdown",
   "metadata": {},
   "source": [
    "#### Problem 6:\n",
    "#### Problem Statement :\n",
    "Divisibility by 2 and 3 not 4"
   ]
  },
  {
   "cell_type": "code",
   "execution_count": null,
   "metadata": {},
   "outputs": [],
   "source": [
    "def checkDivisibility(n):\n",
    "    if (n % 2 ==0 and n % 3 ==0 and n % 4 !=0 ):\n",
    "        return True\n",
    "    else:\n",
    "        return False\n",
    "checkDivisibility(6)"
   ]
  },
  {
   "cell_type": "markdown",
   "metadata": {},
   "source": [
    "#### Problem 7:\n",
    "#### Problem Statement :\n",
    "Given 2 int values, return True if one is negative and one is positive. Except if the parameter \"negative\" is True, then return True only if both are negative.\n",
    "\n",
    "#### Constraints : Given number will be in the range of [1,1000000000]\n",
    "#### Test Cases:\n",
    "1. pos_neg(1, -1, False) → True\n",
    "2. pos_neg(-1, 1, False) → True\n",
    "3. pos_neg(-4, -5, True) → True\n",
    "4. pos_neg(-1, 1, True) -> False\n",
    "5. pos_neg(4, 6, False) -> False\n",
    "6. pos_neg(-1, -9, False) -> False\n",
    " \n"
   ]
  },
  {
   "cell_type": "code",
   "execution_count": null,
   "metadata": {},
   "outputs": [],
   "source": [
    "def pos_neg(n1,n2,b):\n",
    "    if (n1 < 0 and n2 > 0 and b == False) or (n1 > 0 and n2 < 0 and b == False) or (n1 < 0 and n2 < 0 and b == True ):\n",
    "        return True\n",
    "    else:\n",
    "        return False\n",
    "print(pos_neg(1,-1,False))\n",
    "print(pos_neg(-1,1,False))\n",
    "print(pos_neg(-4,-5,True))\n",
    "print(pos_neg(-1,1,True))\n",
    "print(pos_neg(4,6,False))\n",
    "print(pos_neg(-1,-9,False))"
   ]
  },
  {
   "cell_type": "code",
   "execution_count": null,
   "metadata": {},
   "outputs": [],
   "source": [
    "def pos_neg(n1,n2,b): # Single line code\n",
    "    \n",
    "    return (n1 < 0 and n2 > 0 and b == False) or (n1 > 0 and n2 < 0 and b == False) or (n1 < 0 and n2 < 0 and b == True )\n",
    "\n",
    "print(pos_neg(1,-1,False))\n",
    "print(pos_neg(-1,1,False))\n",
    "print(pos_neg(-4,-5,True))\n",
    "print(pos_neg(-1,1,True))\n",
    "print(pos_neg(4,6,False))\n",
    "print(pos_neg(-1,-9,False))"
   ]
  },
  {
   "cell_type": "markdown",
   "metadata": {},
   "source": [
    "#### Problem 8:\n",
    "#### Problem Statement :\n",
    "Given 2 ints, a and b, return True if one of them is 10 or if their sum is 10.\n",
    "#### Constraints : Given number will be in the range of [1,1000000000]¶\n",
    "#### Test Cases:\n",
    "1. makes10(9, 10) → True\n",
    "2. makes10(9, 9) → False\n",
    "3. makes10(1, 9) → True\n"
   ]
  },
  {
   "cell_type": "code",
   "execution_count": null,
   "metadata": {},
   "outputs": [],
   "source": [
    "def makes10(n1,n2):\n",
    "    if (n1 == 10 or n2 == 10) or (n1 + n2 == 10) or (n1 ==10 and n2 ==10):\n",
    "        return True\n",
    "    else:\n",
    "        return False\n",
    "print(makes10(9,10))\n",
    "print(makes10(9,9))\n",
    "print(makes10(1,9))"
   ]
  },
  {
   "cell_type": "markdown",
   "metadata": {},
   "source": [
    "#### Problem 9:\n",
    "#### Problem Statement :\n",
    "Create a Random Number Generator as a Procedure which takes the Range(lb, ub) and returns a Random number in the given range\n",
    "\n",
    "#### Constraints : Given number will be in the range of [1,1000000000]\n",
    "\n",
    "#### Test Cases:\n",
    "* RandomGenerator(1,100)->will be in range (1,100)\n"
   ]
  },
  {
   "cell_type": "code",
   "execution_count": null,
   "metadata": {},
   "outputs": [],
   "source": [
    "import random\n",
    "def randomGenerator(lb,ub):\n",
    "     return random.randrange(lb+1,ub)\n",
    "randomGenerator(1,101)"
   ]
  },
  {
   "cell_type": "code",
   "execution_count": null,
   "metadata": {},
   "outputs": [],
   "source": [
    "from random import randrange\n",
    "def randomGenerator(lb,ub):\n",
    "     return randrange(lb+1,ub)\n",
    "randomGenerator(1,101)"
   ]
  },
  {
   "cell_type": "markdown",
   "metadata": {},
   "source": [
    "#### Problem 10:\n",
    "#### Problem Statement :\n",
    "Given an integer N,calculate the sum of N natural numbers in the range [0,100000000000000]\n",
    "#### Constraints : Given number will be in the range of [1,1000000000]\n",
    "#### Test Cases:\n",
    "RandomGenerator(1,100)->will be in range (1,100)"
   ]
  },
  {
   "cell_type": "code",
   "execution_count": null,
   "metadata": {},
   "outputs": [],
   "source": [
    "import random\n",
    "def sumRandomNum(n,lb,ub):\n",
    "    sum=0\n",
    "    for count in range(1,n+1):\n",
    "        sum = sum + random.randint(lb,ub)\n",
    "    return sum\n",
    "sumRandomNum(100,0,1000000000000000)"
   ]
  },
  {
   "cell_type": "markdown",
   "metadata": {},
   "source": [
    "#### Problem 11:\n",
    "#### Problem Statement :\n",
    "Design a procedure to perform Linear search on list of N unsorted unique numbers. It take an array and the key element to be searched and returns the index of the element of key element if found. Else returns -1\n",
    "\n",
    "#### Constraints : Given number will be in the range of [1,1000000000]\n",
    "#### Test cases :\n",
    "1. linearsearch([1,4,8,0,3,5,6],3)->2\n",
    "2. linearsearch([15,12,9,6,3,-3],0)->-1\n",
    "3. linearsearch([325,543,567,789],567)->2"
   ]
  },
  {
   "cell_type": "code",
   "execution_count": null,
   "metadata": {},
   "outputs": [],
   "source": [
    "a = [1,4,8,0,3,5,6]\n",
    "0 in a"
   ]
  },
  {
   "cell_type": "code",
   "execution_count": null,
   "metadata": {},
   "outputs": [],
   "source": [
    "a = [1,4,8,0,3,5,6]\n",
    "def linearsearch(a,key):\n",
    "    for i in range(0,len(a)):\n",
    "        if(a[i]==key):\n",
    "            return i\n",
    "    return -1\n",
    "print(linearsearch([15,12,9,6,3,-3],0))\n",
    "print(linearsearch([15,12,9,6,3,-3],9))\n",
    "print(linearsearch([15,3,9,6,3,-3],3))"
   ]
  },
  {
   "cell_type": "markdown",
   "metadata": {},
   "source": [
    "#### Problem 12:\n",
    "#### Problem Statement :\n",
    "Given an int n, return True if it is within 10 of 100 or 200. Note: abs(num) computes the absolute value of a number.\n",
    "#### Constraints:\n",
    "#### Test cases :\n",
    "1. near_hundred(93) → True\n",
    "2. near_hundred(90) → True\n",
    "3. near_hundred(89) → False\n"
   ]
  },
  {
   "cell_type": "code",
   "execution_count": null,
   "metadata": {},
   "outputs": [],
   "source": [
    "def near_hundred(n):\n",
    "    if (n >= 90 and n < 110) or (n > 190 and n < 210):\n",
    "        return True\n",
    "    else:\n",
    "        return False\n",
    "print(near_hundred(93))\n",
    "print(near_hundred(90))\n",
    "print(near_hundred(89))"
   ]
  },
  {
   "cell_type": "markdown",
   "metadata": {},
   "source": [
    "#### Problem 13:\n",
    "#### Problem Statement :\n",
    "Designing procedures for Basic Arithmetic operations"
   ]
  },
  {
   "cell_type": "code",
   "execution_count": null,
   "metadata": {},
   "outputs": [],
   "source": [
    "def Ari_op(n1,n2):\n",
    "    add = n1 + n2\n",
    "    diff = n1 - n2\n",
    "    mul = n1 * n2\n",
    "    div = int(n1 / n2)\n",
    "    mod = n1 % n2\n",
    "    print(f'Sum is : {add}')\n",
    "    print(f'Difference is : {diff}')\n",
    "    print(f'Product is : {mul}')\n",
    "    print(f'Quotient is : {div}')\n",
    "    print(f'Modulus is : {mod}')\n",
    "(Ari_op(2,3))"
   ]
  },
  {
   "cell_type": "markdown",
   "metadata": {},
   "source": [
    "#### Problem 14:\n",
    "#### Problem Statement :\n",
    "Procedure to print N natural numbers"
   ]
  },
  {
   "cell_type": "code",
   "execution_count": 37,
   "metadata": {},
   "outputs": [
    {
     "name": "stdout",
     "output_type": "stream",
     "text": [
      "1 2 3 4 5 6 7 8 9 10 11 12 13 14 15 16 17 18 19 20 21 22 23 24 25 "
     ]
    }
   ],
   "source": [
    "def natural_num(n):\n",
    "    for i in range(1,n+1):\n",
    "        print(i,end = \" \")\n",
    "natural_num(25)"
   ]
  },
  {
   "cell_type": "markdown",
   "metadata": {},
   "source": [
    "#### Problem 15:\n",
    "#### Problem Statement :\n",
    "Procedure to calculate the factorial of a given number"
   ]
  },
  {
   "cell_type": "code",
   "execution_count": null,
   "metadata": {},
   "outputs": [],
   "source": [
    "def factorial(n):\n",
    "    fact = 1\n",
    "    for i in range(n,0,-1):\n",
    "        fact = fact * i\n",
    "    return fact\n",
    "factorial(5)"
   ]
  },
  {
   "cell_type": "markdown",
   "metadata": {},
   "source": [
    "#### Problem 16:\n",
    "#### Problem Statement : \n",
    "Evaluate the polynomial\n",
    "f(x)= x^3 + 2 X^2 + 3 X - 10\n",
    "#### Constraint : x in the range [1, 1000]"
   ]
  },
  {
   "cell_type": "code",
   "execution_count": 46,
   "metadata": {},
   "outputs": [
    {
     "data": {
      "text/plain": [
       "-4"
      ]
     },
     "execution_count": 46,
     "metadata": {},
     "output_type": "execute_result"
    }
   ],
   "source": [
    "def Evaluate(x):\n",
    "    for i in range(1,1000):\n",
    "        f = x**3 + 2 *(x**2) + 3*x-10\n",
    "    return f\n",
    "Evaluate(1)"
   ]
  },
  {
   "cell_type": "markdown",
   "metadata": {},
   "source": [
    "#### Problem 17:\n",
    "#### Problem Statement : \n",
    "Design a procedure to determine if a given string is a Palindrome\n",
    "#### Constraint\n",
    "#### Test Cases :\n",
    "1. Palindrome(\"racecar\") -> True\n",
    "2. Palindrome(\"raptor\") -> False"
   ]
  },
  {
   "cell_type": "code",
   "execution_count": 45,
   "metadata": {},
   "outputs": [
    {
     "data": {
      "text/plain": [
       "True"
      ]
     },
     "execution_count": 45,
     "metadata": {},
     "output_type": "execute_result"
    }
   ],
   "source": [
    "def palindrome(s):\n",
    "    reverse = s[-1::-1]\n",
    "    if(s == reverse):\n",
    "        return True\n",
    "    return False\n",
    "palindrome('racecar')"
   ]
  },
  {
   "cell_type": "markdown",
   "metadata": {},
   "source": [
    "#### Problem 18:\n",
    "#### Problem Statement :\n",
    "Procedure to generate multiplication tables.\n",
    "#### Test Cases :\n",
    "1. MT(3, 5, 7) -> 3 X 5 = 15\n",
    "\n",
    "               3 X 6 = 18\n",
    "\n",
    "               3 X 7 = 21"
   ]
  },
  {
   "cell_type": "code",
   "execution_count": 44,
   "metadata": {},
   "outputs": [
    {
     "name": "stdout",
     "output_type": "stream",
     "text": [
      "6 * 5 = 30\n",
      "6 * 6 = 36\n",
      "6 * 7 = 42\n"
     ]
    }
   ],
   "source": [
    "def MT(tablename,lb,ub):\n",
    "    for i in range(lb,ub+1):\n",
    "        print(f'{tablename} * {i} = {tablename*i}')\n",
    "    return \n",
    "MT(6,5,7)"
   ]
  },
  {
   "cell_type": "markdown",
   "metadata": {},
   "source": [
    "#### Problem 19:\n",
    "#### Problem Statement : \n",
    "Procedure to print the list of factors of a given number.\n",
    "#### Constraints :\n",
    "#### Test Cases : \n",
    "        FactorList(6)  ->  1 2 3 6\n",
    "\n",
    "        FactorList (9) ->   1 3 9\n",
    "\n",
    "        FactorList (19) ->  1  19\n"
   ]
  },
  {
   "cell_type": "code",
   "execution_count": 43,
   "metadata": {},
   "outputs": [
    {
     "name": "stdout",
     "output_type": "stream",
     "text": [
      "1 2 3 6 "
     ]
    }
   ],
   "source": [
    "def FactorList(n):\n",
    "    for i in range(1,n+1):\n",
    "        if( n % i == 0 ):\n",
    "            print(i,end=\" \")\n",
    "    return\n",
    "FactorList(6)"
   ]
  },
  {
   "cell_type": "markdown",
   "metadata": {},
   "source": [
    "#### Problem 20:\n",
    "#### Problem Statement : \n",
    "Procedure to check if a given number is Prime and returns a Boolean value.\n",
    "#### Constraints :\n",
    "#### Test Cases :\n",
    " IsPrime(7) -> True\n",
    "\n",
    " IsPrime(9) ->  False\n",
    "\n"
   ]
  },
  {
   "cell_type": "code",
   "execution_count": null,
   "metadata": {},
   "outputs": [],
   "source": [
    "def IsPrime(n):\n",
    "    count=0\n",
    "    for i in range(2,n):\n",
    "        if(n % i == 0):\n",
    "            count=count+1\n",
    "    if count==0:\n",
    "        return True\n",
    "    else:\n",
    "        return False\n",
    "        \n",
    "        \n",
    "IsPrime(7)          "
   ]
  },
  {
   "cell_type": "markdown",
   "metadata": {},
   "source": [
    "#### Problem 21:\n",
    "#### Problem Statement :\n",
    "Procedure to count the number of digits in a given number.\n",
    "#### Constraints :\n",
    "#### Test Cases :\n",
    "            CountDigits(123456) ->  6\n",
    "\n",
    "            CountDigits (0) ->  1"
   ]
  },
  {
   "cell_type": "code",
   "execution_count": 13,
   "metadata": {},
   "outputs": [
    {
     "data": {
      "text/plain": [
       "1"
      ]
     },
     "execution_count": 13,
     "metadata": {},
     "output_type": "execute_result"
    }
   ],
   "source": [
    "def CountDigits(n):\n",
    "    count=0\n",
    "    if(n == 0):\n",
    "        return 1\n",
    "    while(n>0):\n",
    "        n = int(n/10)\n",
    "        count =count+1\n",
    "    return count\n",
    "CountDigits(0)"
   ]
  },
  {
   "cell_type": "markdown",
   "metadata": {},
   "source": [
    "#### Problem 22:\n",
    "#### Problem Statement :\n",
    "Procedure to check if a given number is a Perfect Number. ( Perfect number is a number for which the sum of all it's divisors is equal to the number itself)\n",
    "#### Constraints :\n",
    "#### Test Cases :\n",
    "                 IsPerfect(3) -> False\n",
    "                 IsPerfect (6) -> True\n",
    "                                                           "
   ]
  },
  {
   "cell_type": "code",
   "execution_count": 6,
   "metadata": {},
   "outputs": [],
   "source": [
    "def IsPerfect(n):\n",
    "    sum = 0\n",
    "    for i in range(1,int(n/2)+1):\n",
    "        if( n % i == 0):\n",
    "            sum = sum + i\n",
    "    if(sum == n):\n",
    "            return True\n",
    "    else:\n",
    "            return False"
   ]
  },
  {
   "cell_type": "markdown",
   "metadata": {},
   "source": [
    "#### Problem 23:\n",
    "#### Problem Statement :\n",
    "Procedure to generate the first N perfect numbers. \n",
    "#### Constraint :\n",
    "#### Test Cases :\n",
    "                 GeneratePerfect(2) ->  6   28\n",
    "\n",
    "                 GeneratePerfect (4) ->  6   28   496    8128\n",
    "\n"
   ]
  },
  {
   "cell_type": "code",
   "execution_count": 9,
   "metadata": {},
   "outputs": [
    {
     "name": "stdout",
     "output_type": "stream",
     "text": [
      "6\n",
      "28\n",
      "496\n"
     ]
    }
   ],
   "source": [
    "def GeneratePerfect(n):\n",
    "    count = 0\n",
    "    i=1\n",
    "    while count!=n:\n",
    "        if(IsPerfect(i)==True):\n",
    "            count = count+1\n",
    "            print(i)\n",
    "        i = i+1\n",
    "GeneratePerfect(3)        "
   ]
  },
  {
   "cell_type": "code",
   "execution_count": null,
   "metadata": {},
   "outputs": [],
   "source": []
  }
 ],
 "metadata": {
  "kernelspec": {
   "display_name": "Python 3",
   "language": "python",
   "name": "python3"
  },
  "language_info": {
   "codemirror_mode": {
    "name": "ipython",
    "version": 3
   },
   "file_extension": ".py",
   "mimetype": "text/x-python",
   "name": "python",
   "nbconvert_exporter": "python",
   "pygments_lexer": "ipython3",
   "version": "3.7.1"
  }
 },
 "nbformat": 4,
 "nbformat_minor": 2
}
